{
 "cells": [
  {
   "cell_type": "code",
   "execution_count": 2,
   "id": "ab5491e2",
   "metadata": {},
   "outputs": [
    {
     "name": "stdout",
     "output_type": "stream",
     "text": [
      "Test Statistic (t): -38.0000\n",
      "Critical Value: 1.7109\n",
      "Fail to reject the null hypothesis: There is insufficient evidence to suggest an increase in weekly costs.\n"
     ]
    }
   ],
   "source": [
    "import scipy.stats as stats\n",
    "import numpy as np\n",
    "sample_mean = 3050\n",
    "model_mean = 1000 + (5 * 600)  \n",
    "std_dev = 5 * 25  \n",
    "n = 25 \n",
    "t_stat = (sample_mean - model_mean) / (std_dev / np.sqrt(n))\n",
    "alpha = 0.05\n",
    "df = n - 1 \n",
    "critical_value = stats.t.ppf(1 - alpha, df)\n",
    "print(f\"Test Statistic (t): {t_stat:.4f}\")\n",
    "print(f\"Critical Value: {critical_value:.4f}\")\n",
    "if t_stat > critical_value:\n",
    "    print(\"Reject the null hypothesis: There is significant evidence that weekly costs are higher than expected.\")\n",
    "else:\n",
    "    print(\"Fail to reject the null hypothesis: There is insufficient evidence to suggest an increase in weekly costs.\")\n"
   ]
  },
  {
   "cell_type": "code",
   "execution_count": 4,
   "id": "62cec9c8",
   "metadata": {},
   "outputs": [
    {
     "name": "stdout",
     "output_type": "stream",
     "text": [
      "Chi-Square Statistic: 5.6382\n",
      "Degrees of Freedom: 4\n",
      "Critical Value: 9.4877\n",
      "P-Value: 0.2278\n",
      "Fail to reject the null hypothesis: No significant association found between device type and customer satisfaction.\n"
     ]
    }
   ],
   "source": [
    "import scipy.stats as stats\n",
    "import numpy as np\n",
    "data = np.array([\n",
    "    [50, 70],  \n",
    "    [80, 100],  \n",
    "    [60, 90], \n",
    "    [30, 50],  \n",
    "    [20, 50]  \n",
    "])\n",
    "chi2_stat, p_value, dof, expected = stats.chi2_contingency(data)\n",
    "alpha = 0.05\n",
    "critical_value = stats.chi2.ppf(1 - alpha, dof)\n",
    "print(f\"Chi-Square Statistic: {chi2_stat:.4f}\")\n",
    "print(f\"Degrees of Freedom: {dof}\")\n",
    "print(f\"Critical Value: {critical_value:.4f}\")\n",
    "print(f\"P-Value: {p_value:.4f}\")\n",
    "if chi2_stat > critical_value:\n",
    "    print(\"Reject the null hypothesis: There is a significant association between device type and customer satisfaction.\")\n",
    "else:\n",
    "    print(\"Fail to reject the null hypothesis: No significant association found between device type and customer satisfaction.\")\n"
   ]
  },
  {
   "cell_type": "code",
   "execution_count": null,
   "id": "9b3ed1a5",
   "metadata": {},
   "outputs": [],
   "source": []
  }
 ],
 "metadata": {
  "kernelspec": {
   "display_name": "Python [conda env:base] *",
   "language": "python",
   "name": "conda-base-py"
  },
  "language_info": {
   "codemirror_mode": {
    "name": "ipython",
    "version": 3
   },
   "file_extension": ".py",
   "mimetype": "text/x-python",
   "name": "python",
   "nbconvert_exporter": "python",
   "pygments_lexer": "ipython3",
   "version": "3.11.5"
  }
 },
 "nbformat": 4,
 "nbformat_minor": 5
}
